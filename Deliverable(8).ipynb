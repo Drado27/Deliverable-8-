{
  "nbformat": 4,
  "nbformat_minor": 0,
  "metadata": {
    "colab": {
      "provenance": []
    },
    "kernelspec": {
      "name": "python3",
      "display_name": "Python 3"
    },
    "language_info": {
      "name": "python"
    }
  },
  "cells": [
    {
      "cell_type": "code",
      "execution_count": null,
      "metadata": {
        "id": "i95DyPOuHPRd"
      },
      "outputs": [],
      "source": [
        "import numpy as np"
      ]
    },
    {
      "cell_type": "code",
      "source": [
        "def random_list(size):\n",
        "  list = []\n",
        "  for i in range(size):\n",
        "    list.append(np.random.randint(10,50))\n",
        "    return list\n",
        "\n",
        "def sum_random(list):\n",
        "  sum = 0\n",
        "  for i in range(len(list)):\n",
        "    sum = sum + list[i]\n",
        "    return sum"
      ],
      "metadata": {
        "id": "_iBK9zz1JmnF"
      },
      "execution_count": null,
      "outputs": []
    },
    {
      "cell_type": "code",
      "source": [
        "num = 5\n",
        "numb = 15\n",
        "\n",
        "if num < 5 and numb > 15:\n",
        " print(num, numb, \"Invalid entry\")\n",
        "\n",
        "\n",
        "n = int(input(\"Enter an integer value between 5 and 15: \"))"
      ],
      "metadata": {
        "id": "m48ArrAcLKUR"
      },
      "execution_count": null,
      "outputs": []
    },
    {
      "cell_type": "code",
      "source": [
        "MyList = random_list(n)\n",
        "MyList"
      ],
      "metadata": {
        "colab": {
          "base_uri": "https://localhost:8080/"
        },
        "id": "zsGAoywELhof",
        "outputId": "eb8620dd-ca0a-424c-8c91-fa32c6de4d65"
      },
      "execution_count": null,
      "outputs": [
        {
          "output_type": "execute_result",
          "data": {
            "text/plain": [
              "[27]"
            ]
          },
          "metadata": {},
          "execution_count": 15
        }
      ]
    },
    {
      "cell_type": "code",
      "source": [
        "MySum = sum_random(MyList)\n",
        "MySum"
      ],
      "metadata": {
        "colab": {
          "base_uri": "https://localhost:8080/"
        },
        "id": "rhC5HWG9Lq_x",
        "outputId": "b6d7f6e1-e8f7-49df-821c-aa59bf7aa6e7"
      },
      "execution_count": 20,
      "outputs": [
        {
          "output_type": "execute_result",
          "data": {
            "text/plain": [
              "27"
            ]
          },
          "metadata": {},
          "execution_count": 20
        }
      ]
    },
    {
      "cell_type": "code",
      "source": [
        "MyList2 = np.random.randint(10, 50, n)\n",
        "MyList2\n",
        "\n",
        "Result1 = 'The elements in the array are:'\n",
        "print(Result1, MyList2)"
      ],
      "metadata": {
        "colab": {
          "base_uri": "https://localhost:8080/"
        },
        "id": "3JSiUv_PROJ_",
        "outputId": "cf516ae2-192a-434b-bfd6-8a8ea6a86df0"
      },
      "execution_count": 31,
      "outputs": [
        {
          "output_type": "stream",
          "name": "stdout",
          "text": [
            "The elements in the array are: [49 32 42 16 49 29 10 13 22 13]\n"
          ]
        }
      ]
    },
    {
      "cell_type": "code",
      "source": [
        "MySum2 = sum(MyList2)\n",
        "MySum2\n",
        "\n",
        "Result2 = 'The sum is:' \n",
        "print(Result2, MySum2)"
      ],
      "metadata": {
        "colab": {
          "base_uri": "https://localhost:8080/"
        },
        "id": "thrHXrxERq1i",
        "outputId": "3cec4491-9619-407a-f1ea-6b578ec45a8f"
      },
      "execution_count": 32,
      "outputs": [
        {
          "output_type": "stream",
          "name": "stdout",
          "text": [
            "The sum is: 275\n"
          ]
        }
      ]
    }
  ]
}